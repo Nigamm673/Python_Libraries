{
 "cells": [
  {
   "cell_type": "markdown",
   "id": "21c86f44",
   "metadata": {},
   "source": [
    "# 🧮 NumPy Library\n",
    "\n",
    "This notebook contains my **NumPy practice work** \n",
    "\n",
    "#### Documentation: https://numpy.org/doc/\n",
    "\n",
    "---\n",
    "\n",
    "## 📑 Contents\n",
    "\n",
    "1. Introduction to NumPy\n",
    "2. Creating Arrays\n",
    "3. Array Attributes\n",
    "4. Indexing & Slicing\n",
    "5. Array Manipulation\n",
    "6. Mathematical Operations\n",
    "7. Broadcasting\n",
    "8. Universal Functions (ufuncs)\n",
    "9. Aggregations & Statistics\n",
    "10. Boolean Masking\n",
    "11. File I/O with NumPy\n",
    "12. Random Module\n",
    "13. Useful Tips & Tricks\n",
    "14. Summary\n"
   ]
  },
  {
   "cell_type": "markdown",
   "id": "02bd2e35-0023-4a65-a64b-8d0b51b79661",
   "metadata": {},
   "source": [
    "# 📘 Introduction to NumPy\n",
    "**NumPy (Numerical Python)** is a powerful open-source Python library used for **scientific computing** and **numerical operations**.  \n",
    "It provides support for **large multi-dimensional arrays and matrices**, along with a collection of mathematical functions to operate on them efficiently.  \n",
    "\n",
    "### 🔑 Key Features of NumPy:\n",
    "- **N-dimensional array (ndarray):** A fast and memory-efficient data structure for numerical data.\n",
    "- **Mathematical operations:** Perform element-wise computations like addition, subtraction, multiplication, division, etc.\n",
    "- **Linear algebra support:** Matrix multiplication, eigenvalues, determinants, etc.\n",
    "- **Statistical functions:** Mean, median, standard deviation, etc.\n",
    "- **Broadcasting:** Perform operations on arrays of different shapes without writing explicit loops.\n",
    "- **Integration with other libraries:** Forms the foundation of pandas, SciPy, scikit-learn, TensorFlow, etc.\n",
    "\n",
    "### ⚡ Why NumPy?\n",
    "- Much **faster** than Python lists (because it is implemented in C).\n",
    "- Handles **large datasets** efficiently.\n",
    "- Provides the backbone for most data science and machine learning libraries.\n",
    "\n",
    "👉 In short, NumPy is the **core numerical library** in Python and is essential for data analysis, machine learning, and scientific computing. "
   ]
  },
  {
   "cell_type": "markdown",
   "id": "4c4a8eff-0909-48d3-a050-4ff174b6a1e0",
   "metadata": {},
   "source": [
    "## Here Are Some Functions We Explored Through NUMPY  🧩 :\n",
    "\n",
    "\n",
    "| Category               | Function Name                    | Description                                    | Syntax / Usage                    | Example Output                         |\n",
    "| ---------------------- | -------------------------------- | ---------------------------------------------- | --------------------------------- | -------------------------------------- |\n",
    "| **Creation**           | `np.array()`                     | Creates a NumPy array                          | `np.array([1, 2, 3])`             | `[1 2 3]`                              |\n",
    "|                        | `np.zeros()`                     | Creates an array filled with 0s                | `np.zeros((2, 3))`                | `[[0. 0. 0.], [0. 0. 0.]]`             |\n",
    "|                        | `np.ones()`                      | Creates an array filled with 1s                | `np.ones((2, 3))`                 | `[[1. 1. 1.], [1. 1. 1.]]`             |\n",
    "|                        | `np.full()`                      | Creates an array filled with a specified value | `np.full((2, 2), 7)`              | `[[7 7], [7 7]]`                       |\n",
    "|                        | `np.eye()`                       | Identity matrix                                | `np.eye(3)`                       | `[[1. 0. 0.], [0. 1. 0.], [0. 0. 1.]]` |\n",
    "|                        | `np.arange()`                    | Creates array from range                       | `np.arange(1, 10, 2)`             | `[1 3 5 7 9]`                          |\n",
    "|                        | `np.linspace()`                  | Creates array with `n` equally spaced values   | `np.linspace(0, 1, 5)`            | `[0. 0.25 0.5 0.75 1.]`                |\n",
    "|                        | `np.random.rand()`               | Random values in `[0, 1)`                      | `np.random.rand(2, 2)`            | `[[0.64 0.12], [0.75 0.38]]`           |\n",
    "|                        | `np.random.randint()`            | Random integers in range                       | `np.random.randint(1, 10, (2,2))` | `[[7 2], [4 5]]`                       |\n",
    "| **Inspection**         | `a.shape`                        | Shape of array                                 | `a.shape`                         | `(3,)`                                 |\n",
    "|                        | `a.ndim`                         | Number of dimensions                           | `a.ndim`                          | `1`                                    |\n",
    "|                        | `a.size`                         | Total number of elements                       | `a.size`                          | `3`                                    |\n",
    "|                        | `a.dtype`                        | Data type                                      | `a.dtype`                         | `int64` or `int32`                     |\n",
    "|                        | `a.itemsize`                     | Bytes per element                              | `a.itemsize`                      | `8`                                    |\n",
    "|                        | `a.nbytes`                       | Total bytes                                    | `a.nbytes`                        | `24`                                   |\n",
    "| **Reshaping**          | `a.reshape()`                    | Changes shape                                  | `a.reshape((3, 1))`               | `[[1], [2], [3]]`                      |\n",
    "|                        | `a.flatten()`                    | Flattens to 1D                                 | `b.flatten()`                     | `[1 2 3 4 5 6]`                        |\n",
    "|                        | `np.ravel()`                     | Similar to flatten, returns view when possible | `np.ravel(b)`                     | `[1 2 3 4 5 6]`                        |\n",
    "|                        | `np.expand_dims()`               | Expands dimensions                             | `np.expand_dims(a, axis=0)`       | `[[1, 2, 3]]`                          |\n",
    "|                        | `np.squeeze()`                   | Removes single-dimensional entries             | `np.squeeze([[1]])`               | `1`                                    |\n",
    "| **Indexing & Slicing** | `a[1]`, `a[1:3]`                 | Access and slice elements                      | `a[1]`, `a[1:3]`                  | `2`, `[2, 3]`                          |\n",
    "|                        | `a[::2]`                         | Step slicing                                   | `a[::2]`                          | `[1 3]`                                |\n",
    "|                        | `a[::-1]`                        | Reverse array                                  | `a[::-1]`                         | `[3 2 1]`                              |\n",
    "|                        | `np.where()`                     | Conditional index                              | `np.where(a > 1)`                 | `(array([1, 2]),)`                     |\n",
    "|                        | `np.take()`                      | Extracts elements                              | `np.take(a, [0, 2])`              | `[1 3]`                                |\n",
    "| **Sorting**            | `np.sort()`                      | Sorts array                                    | `np.sort([3, 1, 2])`              | `[1 2 3]`                              |\n",
    "|                        | `np.argsort()`                   | Returns sort indices                           | `np.argsort([3, 1, 2])`           | `[1 2 0]`                              |\n",
    "| **Copying**            | `np.copy()`                      | Copies array                                   | `c = np.copy(a)`                  | Same as `a`                            |\n",
    "|                        | `a.view()`                       | Creates view (linked)                          | `v = a.view()`                    | Changes in `a` affect `v`              |\n",
    "| **Aggregation**        | `np.sum()`, `np.mean()`          | Total or average values                        | `np.mean(a)`                      | `2.0`                                  |\n",
    "|                        | `np.max()`, `np.min()`           | Max or min                                     | `np.max(a)`                       | `3`                                    |\n",
    "|                        | `np.std()`, `np.var()`           | Standard deviation and variance                | `np.std(a)`                       | `0.816`                                |\n",
    "| **Logic / Condition**  | `np.any()`, `np.all()`           | Checks if any/all elements are True            | `np.any(a > 1)`                   | `True`                                 |\n",
    "|                        | `np.equal()`, `np.array_equal()` | Element-wise comparison                        | `np.equal(a, [1, 0, 3])`          | `[True False True]`                    |\n",
    "| **Linear Algebra**     | `np.dot()`, `np.matmul()`        | Dot product, matrix multiplication             | `np.dot(a, [4,5,6])`              | `32`                                   |\n",
    "|                        | `np.linalg.inv()`                | Inverse of a matrix                            | `np.linalg.inv([[1,2],[3,4]])`    | Returns inverse                        |\n",
    "|                        | `np.linalg.det()`                | Determinant                                    | `np.linalg.det([[1,2],[3,4]])`    | `-2.0`                                 |\n",
    "|                        | `np.linalg.eig()`                | Eigenvalues and eigenvectors                   | `np.linalg.eig()`                 | Varies                                 |\n",
    "| **Saving / Loading**   | `np.save()`, `np.load()`         | Save/load `.npy` files                         | `np.save('file.npy', a)`          | Binary file                            |\n",
    "|                        | `np.savetxt()`, `np.loadtxt()`   | Save/load text (CSV, etc.)                     | `np.savetxt('file.txt', a)`       | Plain text                             |"
   ]
  },
  {
   "cell_type": "markdown",
   "id": "7c43a2a3-ee7d-4b24-856a-e6d5ee94c812",
   "metadata": {},
   "source": [
    "## 🔢 Arrays in NumPy"
   ]
  },
  {
   "cell_type": "code",
   "execution_count": 1,
   "id": "c9485878-2927-46d9-bb84-98baec42e567",
   "metadata": {},
   "outputs": [],
   "source": [
    "#creating numpy/n-d arrays  \n",
    "import numpy as np"
   ]
  },
  {
   "cell_type": "code",
   "execution_count": 2,
   "id": "c276864a-48e7-4adc-90f4-37b7db46d199",
   "metadata": {},
   "outputs": [
    {
     "data": {
      "text/plain": [
       "array([1, 2, 3, 4, 5])"
      ]
     },
     "execution_count": 2,
     "metadata": {},
     "output_type": "execute_result"
    }
   ],
   "source": [
    "#creates a numpy array\n",
    "arr1=np.array([1,2,3,4,5])\n",
    "arr1"
   ]
  },
  {
   "cell_type": "code",
   "execution_count": 3,
   "id": "612b5847-f446-4a61-a64d-27147b35e51e",
   "metadata": {},
   "outputs": [
    {
     "data": {
      "text/plain": [
       "array([[1, 2, 3],\n",
       "       [4, 5, 6]])"
      ]
     },
     "execution_count": 3,
     "metadata": {},
     "output_type": "execute_result"
    }
   ],
   "source": [
    "arr2=np.array([[1,2,3],[4,5,6]])\n",
    "arr2"
   ]
  },
  {
   "cell_type": "code",
   "execution_count": 4,
   "id": "eb20e490-e5bf-4d08-baa2-77a92cbc052a",
   "metadata": {},
   "outputs": [
    {
     "data": {
      "text/plain": [
       "array([[0., 0., 0.],\n",
       "       [0., 0., 0.]])"
      ]
     },
     "execution_count": 4,
     "metadata": {},
     "output_type": "execute_result"
    }
   ],
   "source": [
    "#array with only zeros\n",
    "arr3=np.zeros((2,3))\n",
    "arr3"
   ]
  },
  {
   "cell_type": "code",
   "execution_count": null,
   "id": "290fc30e-9153-4973-bd72-0b28fa767206",
   "metadata": {},
   "outputs": [],
   "source": [
    "arr4=np.ones((3,3))\n",
    "arr4"
   ]
  },
  {
   "cell_type": "code",
   "execution_count": 6,
   "id": "a96db4c7-9880-4fa7-8cdf-acdc4cb15764",
   "metadata": {},
   "outputs": [
    {
     "data": {
      "text/plain": [
       "array([[1., 0., 0., 0., 0.],\n",
       "       [0., 1., 0., 0., 0.],\n",
       "       [0., 0., 1., 0., 0.],\n",
       "       [0., 0., 0., 1., 0.],\n",
       "       [0., 0., 0., 0., 1.]])"
      ]
     },
     "execution_count": 6,
     "metadata": {},
     "output_type": "execute_result"
    }
   ],
   "source": [
    "#diagonal are 1\n",
    "arr5=np.identity(5)\n",
    "arr5"
   ]
  },
  {
   "cell_type": "code",
   "execution_count": 7,
   "id": "14503fe7-b124-46b9-83a9-0171f941b064",
   "metadata": {},
   "outputs": [
    {
     "data": {
      "text/plain": [
       "array([ 5,  8, 11, 14])"
      ]
     },
     "execution_count": 7,
     "metadata": {},
     "output_type": "execute_result"
    }
   ],
   "source": [
    "#creates a range with alterations\n",
    "arr6=np.arange(5,16,3)\n",
    "arr6"
   ]
  },
  {
   "cell_type": "code",
   "execution_count": 8,
   "id": "ae7b0415-4774-4d20-9db8-7aabf30ec7c9",
   "metadata": {},
   "outputs": [
    {
     "data": {
      "text/plain": [
       "array([10.        , 11.11111111, 12.22222222, 13.33333333, 14.44444444,\n",
       "       15.55555556, 16.66666667, 17.77777778, 18.88888889, 20.        ])"
      ]
     },
     "execution_count": 8,
     "metadata": {},
     "output_type": "execute_result"
    }
   ],
   "source": [
    "#for equally spaced values\n",
    "arr7=np.linspace(10,20,10)\n",
    "arr7\n"
   ]
  },
  {
   "cell_type": "code",
   "execution_count": 9,
   "id": "bee2afd1-a8af-4dc2-83de-a1951f737a8b",
   "metadata": {},
   "outputs": [
    {
     "data": {
      "text/plain": [
       "(2, 3)"
      ]
     },
     "execution_count": 9,
     "metadata": {},
     "output_type": "execute_result"
    }
   ],
   "source": [
    "arr2.shape"
   ]
  },
  {
   "cell_type": "code",
   "execution_count": 10,
   "id": "e76a38c7-be62-48cc-8120-2d52a8ab4712",
   "metadata": {},
   "outputs": [
    {
     "data": {
      "text/plain": [
       "2"
      ]
     },
     "execution_count": 10,
     "metadata": {},
     "output_type": "execute_result"
    }
   ],
   "source": [
    "#for num of dimension\n",
    "arr2.ndim"
   ]
  },
  {
   "cell_type": "code",
   "execution_count": 11,
   "id": "72c6352c-a96a-4a2a-933d-d3573abefed5",
   "metadata": {},
   "outputs": [
    {
     "data": {
      "text/plain": [
       "array([[[1, 2],\n",
       "        [3, 4]],\n",
       "\n",
       "       [[5, 6],\n",
       "        [7, 8]]])"
      ]
     },
     "execution_count": 11,
     "metadata": {},
     "output_type": "execute_result"
    }
   ],
   "source": [
    "#multidimensional array\n",
    "arr9=np.array([[[1,2],[3,4]],[[5,6],[7,8]]])\n",
    "arr9"
   ]
  },
  {
   "cell_type": "code",
   "execution_count": 12,
   "id": "a160553c-87ea-475a-bf5e-6eddf0adfd6a",
   "metadata": {},
   "outputs": [
    {
     "data": {
      "text/plain": [
       "(2, 2, 2)"
      ]
     },
     "execution_count": 12,
     "metadata": {},
     "output_type": "execute_result"
    }
   ],
   "source": [
    "arr9.shape"
   ]
  },
  {
   "cell_type": "code",
   "execution_count": 13,
   "id": "71b220c7-c988-49df-ae0e-ae457e07f2c4",
   "metadata": {},
   "outputs": [
    {
     "data": {
      "text/plain": [
       "3"
      ]
     },
     "execution_count": 13,
     "metadata": {},
     "output_type": "execute_result"
    }
   ],
   "source": [
    "arr9.ndim"
   ]
  },
  {
   "cell_type": "code",
   "execution_count": 14,
   "id": "4f0779c6-0e6a-44e2-9979-9c3bc8a48da1",
   "metadata": {},
   "outputs": [
    {
     "data": {
      "text/plain": [
       "8"
      ]
     },
     "execution_count": 14,
     "metadata": {},
     "output_type": "execute_result"
    }
   ],
   "source": [
    "#number of items in an array\n",
    "arr9.size"
   ]
  },
  {
   "cell_type": "code",
   "execution_count": 15,
   "id": "910ef7ae-71dc-430a-beb4-4a0a7541de61",
   "metadata": {},
   "outputs": [
    {
     "data": {
      "text/plain": [
       "dtype('int64')"
      ]
     },
     "execution_count": 15,
     "metadata": {},
     "output_type": "execute_result"
    }
   ],
   "source": [
    "#data type\n",
    "arr9.dtype"
   ]
  },
  {
   "cell_type": "markdown",
   "id": "c01194aa",
   "metadata": {},
   "source": [
    "## 🔍 Array Attributes"
   ]
  },
  {
   "cell_type": "code",
   "execution_count": 16,
   "id": "785f6efa-46d1-4efc-8923-ec7f672a67ba",
   "metadata": {},
   "outputs": [
    {
     "data": {
      "text/plain": [
       "array([[[1., 2.],\n",
       "        [3., 4.]],\n",
       "\n",
       "       [[5., 6.],\n",
       "        [7., 8.]]])"
      ]
     },
     "execution_count": 16,
     "metadata": {},
     "output_type": "execute_result"
    }
   ],
   "source": [
    "#change data type\n",
    "arr9.astype('float')"
   ]
  },
  {
   "cell_type": "code",
   "execution_count": 17,
   "id": "09780b76-3d58-4af2-82f2-3c2232d3ccca",
   "metadata": {},
   "outputs": [],
   "source": [
    "#numpy Arrays aee faster convenient and takes less memory then python list\n",
    "lista = range(100)\n",
    "arr11 = np.arange(100)"
   ]
  },
  {
   "cell_type": "code",
   "execution_count": 18,
   "id": "a3350c7d-0313-49e7-b7fd-1dd06c83c8c7",
   "metadata": {},
   "outputs": [],
   "source": [
    "import sys"
   ]
  },
  {
   "cell_type": "code",
   "execution_count": 19,
   "id": "a765849a-ea60-47cd-b525-26d265314b3b",
   "metadata": {},
   "outputs": [
    {
     "name": "stdout",
     "output_type": "stream",
     "text": [
      "2800\n"
     ]
    }
   ],
   "source": [
    "print(sys.getsizeof(87)*len(lista))"
   ]
  },
  {
   "cell_type": "code",
   "execution_count": 20,
   "id": "333a137e-3823-4911-a5d1-35d1f57d7888",
   "metadata": {},
   "outputs": [
    {
     "name": "stdout",
     "output_type": "stream",
     "text": [
      "800\n"
     ]
    }
   ],
   "source": [
    "print(arr11.itemsize*arr11.size)"
   ]
  },
  {
   "cell_type": "markdown",
   "id": "f6de012c-777e-4835-b4d7-fcb546a47f0f",
   "metadata": {},
   "source": [
    "----"
   ]
  },
  {
   "cell_type": "markdown",
   "id": "33d339e7",
   "metadata": {},
   "source": [
    "## 🔪 Indexing & Slicing"
   ]
  },
  {
   "cell_type": "code",
   "execution_count": 21,
   "id": "138198ff-23ed-43bf-b86f-4e78974a9fac",
   "metadata": {},
   "outputs": [],
   "source": [
    "import time "
   ]
  },
  {
   "cell_type": "code",
   "execution_count": 22,
   "id": "4eb319e9-d261-4570-ab35-456622a9ac40",
   "metadata": {},
   "outputs": [
    {
     "name": "stdout",
     "output_type": "stream",
     "text": [
      "0.025876760482788086\n"
     ]
    }
   ],
   "source": [
    "x = range(100000)\n",
    "y= range(100000,200000)\n",
    "start_time=time.time()\n",
    "\n",
    "c=[x+y for x,y in zip (x,y)]\n",
    "print (time.time()-start_time)"
   ]
  },
  {
   "cell_type": "code",
   "execution_count": 23,
   "id": "c86c6467-49ae-410a-9144-99fb4454a9b9",
   "metadata": {},
   "outputs": [
    {
     "name": "stdout",
     "output_type": "stream",
     "text": [
      "0.002994060516357422\n"
     ]
    }
   ],
   "source": [
    "a=np.arange(100000)\n",
    "b=np.arange(100000,200000)\n",
    "\n",
    "start_time=time.time()\n",
    "c=a+b\n",
    "print(time.time()-start_time)"
   ]
  },
  {
   "cell_type": "code",
   "execution_count": 24,
   "id": "53b7c806-5588-4047-8d1d-240f727144c4",
   "metadata": {},
   "outputs": [
    {
     "data": {
      "text/plain": [
       "array([[ 0,  1,  2,  3],\n",
       "       [ 4,  5,  6,  7],\n",
       "       [ 8,  9, 10, 11],\n",
       "       [12, 13, 14, 15],\n",
       "       [16, 17, 18, 19],\n",
       "       [20, 21, 22, 23]])"
      ]
     },
     "execution_count": 24,
     "metadata": {},
     "output_type": "execute_result"
    }
   ],
   "source": [
    "#indexing \n",
    "arr12=np.arange(24).reshape(6,4)\n",
    "arr12"
   ]
  },
  {
   "cell_type": "code",
   "execution_count": 25,
   "id": "d7fb3f5d-9cb3-4a59-b800-f6f9e09a8b66",
   "metadata": {},
   "outputs": [
    {
     "data": {
      "text/plain": [
       "np.int64(4)"
      ]
     },
     "execution_count": 25,
     "metadata": {},
     "output_type": "execute_result"
    }
   ],
   "source": [
    "arr1[3]"
   ]
  },
  {
   "cell_type": "code",
   "execution_count": 26,
   "id": "b6f133e4-b163-4a55-9140-051f2f90821e",
   "metadata": {},
   "outputs": [
    {
     "data": {
      "text/plain": [
       "array([3, 4])"
      ]
     },
     "execution_count": 26,
     "metadata": {},
     "output_type": "execute_result"
    }
   ],
   "source": [
    "#slicing\n",
    "arr1[2:4]"
   ]
  },
  {
   "cell_type": "code",
   "execution_count": 27,
   "id": "80328047-8f0d-4e52-b02f-7a968f5bc544",
   "metadata": {},
   "outputs": [
    {
     "data": {
      "text/plain": [
       "array([ 8,  9, 10, 11])"
      ]
     },
     "execution_count": 27,
     "metadata": {},
     "output_type": "execute_result"
    }
   ],
   "source": [
    "arr12[2]"
   ]
  },
  {
   "cell_type": "code",
   "execution_count": 28,
   "id": "955b7a5f-c8a0-4ddb-8ac2-8db1ab6e301f",
   "metadata": {},
   "outputs": [
    {
     "data": {
      "text/plain": [
       "array([[0, 1, 2, 3],\n",
       "       [4, 5, 6, 7]])"
      ]
     },
     "execution_count": 28,
     "metadata": {},
     "output_type": "execute_result"
    }
   ],
   "source": [
    "arr12[:2]"
   ]
  },
  {
   "cell_type": "code",
   "execution_count": 29,
   "id": "a7a6d75d-f5f5-48b7-84fd-1fd1d57e7544",
   "metadata": {},
   "outputs": [
    {
     "data": {
      "text/plain": [
       "array([[ 9, 10],\n",
       "       [13, 14]])"
      ]
     },
     "execution_count": 29,
     "metadata": {},
     "output_type": "execute_result"
    }
   ],
   "source": [
    "arr12[2:4,1:3]"
   ]
  },
  {
   "cell_type": "code",
   "execution_count": 30,
   "id": "e01a2a8f-ee1d-454b-9de4-c53458e806b5",
   "metadata": {},
   "outputs": [
    {
     "data": {
      "text/plain": [
       "array([[18, 19],\n",
       "       [22, 23]])"
      ]
     },
     "execution_count": 30,
     "metadata": {},
     "output_type": "execute_result"
    }
   ],
   "source": [
    "arr12[4:6,2:4]"
   ]
  },
  {
   "cell_type": "markdown",
   "id": "dd6daba0-26ac-4f4b-b8ae-46114cd983cb",
   "metadata": {},
   "source": [
    "-----"
   ]
  },
  {
   "cell_type": "markdown",
   "id": "24d16740",
   "metadata": {},
   "source": [
    "## 🔄 Array Manipulation"
   ]
  },
  {
   "cell_type": "code",
   "execution_count": 31,
   "id": "2f064eb5-ee10-4ad0-b144-00a9fae04c9b",
   "metadata": {},
   "outputs": [
    {
     "data": {
      "text/plain": [
       "array([[ 0,  1,  2,  3],\n",
       "       [ 4,  5,  6,  7],\n",
       "       [ 8,  9, 10, 11],\n",
       "       [12, 13, 14, 15],\n",
       "       [16, 17, 18, 19],\n",
       "       [20, 21, 22, 23]])"
      ]
     },
     "execution_count": 31,
     "metadata": {},
     "output_type": "execute_result"
    }
   ],
   "source": [
    "#Iteration\n",
    "arr12"
   ]
  },
  {
   "cell_type": "code",
   "execution_count": 32,
   "id": "6751df37-2735-4b61-850d-f949b7a268b5",
   "metadata": {},
   "outputs": [
    {
     "name": "stdout",
     "output_type": "stream",
     "text": [
      "[0 1 2 3]\n",
      "[4 5 6 7]\n",
      "[ 8  9 10 11]\n",
      "[12 13 14 15]\n",
      "[16 17 18 19]\n",
      "[20 21 22 23]\n"
     ]
    }
   ],
   "source": [
    "for i in arr12:\n",
    "    print (i)"
   ]
  },
  {
   "cell_type": "code",
   "execution_count": 33,
   "id": "96742b4d-03aa-4c04-a56e-6a7615b4bae2",
   "metadata": {},
   "outputs": [
    {
     "name": "stdout",
     "output_type": "stream",
     "text": [
      "0\n",
      "1\n",
      "2\n",
      "3\n",
      "4\n",
      "5\n",
      "6\n",
      "7\n",
      "8\n",
      "9\n",
      "10\n",
      "11\n",
      "12\n",
      "13\n",
      "14\n",
      "15\n",
      "16\n",
      "17\n",
      "18\n",
      "19\n",
      "20\n",
      "21\n",
      "22\n",
      "23\n"
     ]
    }
   ],
   "source": [
    "for i in np.nditer(arr12):\n",
    "    print(i)"
   ]
  },
  {
   "cell_type": "code",
   "execution_count": 34,
   "id": "84be7cba-23d3-4240-b8ab-ff077ff7690b",
   "metadata": {},
   "outputs": [],
   "source": [
    "#numpy array operations\n",
    "import numpy as np"
   ]
  },
  {
   "cell_type": "code",
   "execution_count": 35,
   "id": "58285468-b929-4281-939c-9f4f07e5b559",
   "metadata": {},
   "outputs": [],
   "source": [
    "arr1 = np.array([1,2,3,4,5,6])\n",
    "arr2 = np.array([4,5,6,7,8,9])"
   ]
  },
  {
   "cell_type": "code",
   "execution_count": 36,
   "id": "31ea7b9a-2071-45d6-b081-056180bafee2",
   "metadata": {},
   "outputs": [
    {
     "data": {
      "text/plain": [
       "array([-3, -3, -3, -3, -3, -3])"
      ]
     },
     "execution_count": 36,
     "metadata": {},
     "output_type": "execute_result"
    }
   ],
   "source": [
    "arr1-arr2"
   ]
  },
  {
   "cell_type": "code",
   "execution_count": 37,
   "id": "b07e2767-470a-4ff2-b315-5ac16cef483a",
   "metadata": {},
   "outputs": [
    {
     "data": {
      "text/plain": [
       "array([ 4, 10, 18, 28, 40, 54])"
      ]
     },
     "execution_count": 37,
     "metadata": {},
     "output_type": "execute_result"
    }
   ],
   "source": [
    "#vector multiplication\n",
    "arr1*arr2"
   ]
  },
  {
   "cell_type": "code",
   "execution_count": 38,
   "id": "5c0721d2-2cd1-4487-82a3-7240e253f847",
   "metadata": {},
   "outputs": [
    {
     "data": {
      "text/plain": [
       "array([ 2,  4,  6,  8, 10, 12])"
      ]
     },
     "execution_count": 38,
     "metadata": {},
     "output_type": "execute_result"
    }
   ],
   "source": [
    "#scalar multiplication\n",
    "arr1*2"
   ]
  },
  {
   "cell_type": "code",
   "execution_count": 39,
   "id": "e7c7f0f9-0fda-4709-b5dd-4cdbf1d7c568",
   "metadata": {},
   "outputs": [
    {
     "data": {
      "text/plain": [
       "array([ True,  True,  True,  True,  True,  True])"
      ]
     },
     "execution_count": 39,
     "metadata": {},
     "output_type": "execute_result"
    }
   ],
   "source": [
    "arr2>3"
   ]
  },
  {
   "cell_type": "code",
   "execution_count": 40,
   "id": "d475699a-37d7-4d5f-8d84-ddbc21fb5f62",
   "metadata": {},
   "outputs": [],
   "source": [
    "arr3=np.arange(6).reshape(2,3)\n",
    "arr4=np.arange(6,12).reshape(3,2)"
   ]
  },
  {
   "cell_type": "markdown",
   "id": "b844b8f3-cb2c-40da-8373-29837bda3f01",
   "metadata": {},
   "source": [
    "--------------------------------------------"
   ]
  },
  {
   "cell_type": "markdown",
   "id": "dffbade8",
   "metadata": {},
   "source": [
    "## ➕➖✖️➗ Mathematical Operations"
   ]
  },
  {
   "cell_type": "code",
   "execution_count": 41,
   "id": "8560412b-fa57-4518-aa38-a4c24a8d7b36",
   "metadata": {},
   "outputs": [
    {
     "data": {
      "text/plain": [
       "array([[ 28,  31],\n",
       "       [100, 112]])"
      ]
     },
     "execution_count": 41,
     "metadata": {},
     "output_type": "execute_result"
    }
   ],
   "source": [
    "arr3.dot(arr4)"
   ]
  },
  {
   "cell_type": "code",
   "execution_count": 42,
   "id": "f9ba0d2f-bfc9-4624-8ff8-7f15b7bfd5db",
   "metadata": {},
   "outputs": [
    {
     "data": {
      "text/plain": [
       "np.int64(154)"
      ]
     },
     "execution_count": 42,
     "metadata": {},
     "output_type": "execute_result"
    }
   ],
   "source": [
    "arr1.dot(arr2)"
   ]
  },
  {
   "cell_type": "code",
   "execution_count": 43,
   "id": "944d08d2-752d-4728-9541-9744d2b8873f",
   "metadata": {},
   "outputs": [
    {
     "data": {
      "text/plain": [
       "array([[ 6,  7],\n",
       "       [ 8,  9],\n",
       "       [10, 11]])"
      ]
     },
     "execution_count": 43,
     "metadata": {},
     "output_type": "execute_result"
    }
   ],
   "source": [
    "arr4"
   ]
  },
  {
   "cell_type": "code",
   "execution_count": 44,
   "id": "c496a0f8-4d66-437e-8761-c871b23162e6",
   "metadata": {},
   "outputs": [
    {
     "data": {
      "text/plain": [
       "np.int64(11)"
      ]
     },
     "execution_count": 44,
     "metadata": {},
     "output_type": "execute_result"
    }
   ],
   "source": [
    "arr4.max()"
   ]
  },
  {
   "cell_type": "code",
   "execution_count": 45,
   "id": "c7e86bcd-402d-4abf-81d7-bfdd4d09aa11",
   "metadata": {},
   "outputs": [
    {
     "data": {
      "text/plain": [
       "array([6, 7])"
      ]
     },
     "execution_count": 45,
     "metadata": {},
     "output_type": "execute_result"
    }
   ],
   "source": [
    "arr4.min(axis=0)"
   ]
  },
  {
   "cell_type": "code",
   "execution_count": 46,
   "id": "a170ab04-4aeb-4ac1-a3ae-a75d4ff354d4",
   "metadata": {},
   "outputs": [
    {
     "data": {
      "text/plain": [
       "array([ 6,  8, 10])"
      ]
     },
     "execution_count": 46,
     "metadata": {},
     "output_type": "execute_result"
    }
   ],
   "source": [
    "arr4.min(axis=1)"
   ]
  },
  {
   "cell_type": "code",
   "execution_count": 47,
   "id": "390de874-f10b-495e-b843-5b3a0db76806",
   "metadata": {},
   "outputs": [
    {
     "data": {
      "text/plain": [
       "np.int64(51)"
      ]
     },
     "execution_count": 47,
     "metadata": {},
     "output_type": "execute_result"
    }
   ],
   "source": [
    "arr4.sum()"
   ]
  },
  {
   "cell_type": "code",
   "execution_count": 48,
   "id": "8e576f2f-f5f1-4d8f-a5e7-7ddd042cc209",
   "metadata": {},
   "outputs": [
    {
     "data": {
      "text/plain": [
       "array([24, 27])"
      ]
     },
     "execution_count": 48,
     "metadata": {},
     "output_type": "execute_result"
    }
   ],
   "source": [
    "arr4.sum(axis=0)"
   ]
  },
  {
   "cell_type": "code",
   "execution_count": 49,
   "id": "c3fe9b9e-f4d2-4cb6-abea-3fe5a4883262",
   "metadata": {},
   "outputs": [
    {
     "data": {
      "text/plain": [
       "np.float64(8.5)"
      ]
     },
     "execution_count": 49,
     "metadata": {},
     "output_type": "execute_result"
    }
   ],
   "source": [
    "arr4.mean()"
   ]
  },
  {
   "cell_type": "code",
   "execution_count": 50,
   "id": "0c8f39d8-a0be-4288-b008-6156d8079e2c",
   "metadata": {},
   "outputs": [
    {
     "data": {
      "text/plain": [
       "np.float64(1.707825127659933)"
      ]
     },
     "execution_count": 50,
     "metadata": {},
     "output_type": "execute_result"
    }
   ],
   "source": [
    "arr4.std()"
   ]
  },
  {
   "cell_type": "markdown",
   "id": "2342b05c-950f-434a-8e43-3a61a484f1c5",
   "metadata": {},
   "source": [
    "------------"
   ]
  },
  {
   "cell_type": "markdown",
   "id": "87c7f63a",
   "metadata": {},
   "source": [
    "## 📡 Broadcasting"
   ]
  },
  {
   "cell_type": "code",
   "execution_count": 51,
   "id": "4afa4931-bd0d-4dac-8a06-98938f8f441b",
   "metadata": {},
   "outputs": [
    {
     "data": {
      "text/plain": [
       "np.float64(8.5)"
      ]
     },
     "execution_count": 51,
     "metadata": {},
     "output_type": "execute_result"
    }
   ],
   "source": [
    "np.median(arr4)"
   ]
  },
  {
   "cell_type": "code",
   "execution_count": 52,
   "id": "787a62f4-6b80-4469-ac88-4457ca5c31f5",
   "metadata": {},
   "outputs": [
    {
     "data": {
      "text/plain": [
       "array([[-0.2794155 ,  0.6569866 ],\n",
       "       [ 0.98935825,  0.41211849],\n",
       "       [-0.54402111, -0.99999021]])"
      ]
     },
     "execution_count": 52,
     "metadata": {},
     "output_type": "execute_result"
    }
   ],
   "source": [
    "np.sin(arr4)"
   ]
  },
  {
   "cell_type": "code",
   "execution_count": 53,
   "id": "e89df376-38c1-4fc3-8b8a-b971548a4826",
   "metadata": {},
   "outputs": [
    {
     "data": {
      "text/plain": [
       "array([[  403.42879349,  1096.63315843],\n",
       "       [ 2980.95798704,  8103.08392758],\n",
       "       [22026.46579481, 59874.1417152 ]])"
      ]
     },
     "execution_count": 53,
     "metadata": {},
     "output_type": "execute_result"
    }
   ],
   "source": [
    "np.exp(arr4)"
   ]
  },
  {
   "cell_type": "code",
   "execution_count": 54,
   "id": "64ceec13-b9b9-4697-a4c4-29952265935c",
   "metadata": {},
   "outputs": [
    {
     "data": {
      "text/plain": [
       "array([[ 6,  7],\n",
       "       [ 8,  9],\n",
       "       [10, 11]])"
      ]
     },
     "execution_count": 54,
     "metadata": {},
     "output_type": "execute_result"
    }
   ],
   "source": [
    "#Reshapin numpy arrays\n",
    "#2d array\n",
    "arr4"
   ]
  },
  {
   "cell_type": "code",
   "execution_count": 55,
   "id": "a9620530-4eb8-4f5b-bae8-d45adb1a6287",
   "metadata": {},
   "outputs": [
    {
     "data": {
      "text/plain": [
       "array([ 6,  7,  8,  9, 10, 11])"
      ]
     },
     "execution_count": 55,
     "metadata": {},
     "output_type": "execute_result"
    }
   ],
   "source": [
    "#reshapes any 2d 3d etc array to 1d\n",
    "arr4.ravel()"
   ]
  },
  {
   "cell_type": "code",
   "execution_count": null,
   "id": "8bb6f34f-a7d9-4e3f-8a0c-ea3a76df1b59",
   "metadata": {},
   "outputs": [],
   "source": [
    "#Broadcasting\n",
    "#it is the ability to perform arithmetic operation on dissimilar arrays \n",
    "\n",
    "#scenario 1\n",
    "# if x=m and y=n, operation will take place\n",
    "a1=np.arange(8).reshape(2,4)\n",
    "a2=np.arange(8,16).reshape(2,4)\n",
    "\n",
    "a1+a2"
   ]
  },
  {
   "cell_type": "markdown",
   "id": "20bbc08a-ccc9-4af9-8d57-6c75d6529d82",
   "metadata": {},
   "source": [
    "------"
   ]
  },
  {
   "cell_type": "markdown",
   "id": "02ccc6a0",
   "metadata": {},
   "source": [
    "##  🌍 Universal Functions (ufuncs)"
   ]
  },
  {
   "cell_type": "code",
   "execution_count": 56,
   "id": "b2dde929-1701-487e-96ac-dcf01f967708",
   "metadata": {},
   "outputs": [
    {
     "data": {
      "text/plain": [
       "array([[ 6,  8, 10],\n",
       "       [ 7,  9, 11]])"
      ]
     },
     "execution_count": 56,
     "metadata": {},
     "output_type": "execute_result"
    }
   ],
   "source": [
    "#changes row to coloumn and column to row\n",
    "arr4.transpose()"
   ]
  },
  {
   "cell_type": "code",
   "execution_count": 57,
   "id": "644b6564-4ca2-42ae-85d2-2e6fcbd21fc9",
   "metadata": {},
   "outputs": [
    {
     "data": {
      "text/plain": [
       "array([[12, 13, 14],\n",
       "       [15, 16, 17]])"
      ]
     },
     "execution_count": 57,
     "metadata": {},
     "output_type": "execute_result"
    }
   ],
   "source": [
    "arr5= np.arange(12,18).reshape(2,3)\n",
    "arr5"
   ]
  },
  {
   "cell_type": "code",
   "execution_count": 59,
   "id": "68bee683-e6f4-4a8e-94dc-abb43696ebd5",
   "metadata": {},
   "outputs": [
    {
     "data": {
      "text/plain": [
       "array([[ 0,  1,  2, 12, 13, 14],\n",
       "       [ 3,  4,  5, 15, 16, 17]])"
      ]
     },
     "execution_count": 59,
     "metadata": {},
     "output_type": "execute_result"
    }
   ],
   "source": [
    "np.hstack((arr3,arr5))"
   ]
  },
  {
   "cell_type": "code",
   "execution_count": 60,
   "id": "096c2520-c77b-40c5-9617-ff5249bbe40e",
   "metadata": {},
   "outputs": [
    {
     "data": {
      "text/plain": [
       "array([[ 0,  1,  2],\n",
       "       [ 3,  4,  5],\n",
       "       [12, 13, 14],\n",
       "       [15, 16, 17]])"
      ]
     },
     "execution_count": 60,
     "metadata": {},
     "output_type": "execute_result"
    }
   ],
   "source": [
    "np.vstack((arr3,arr5))"
   ]
  },
  {
   "cell_type": "code",
   "execution_count": 64,
   "id": "61812495-2165-4d51-bce8-a654ccc2c22f",
   "metadata": {},
   "outputs": [
    {
     "data": {
      "text/plain": [
       "[array([[0, 1, 2]]), array([[3, 4, 5]])]"
      ]
     },
     "execution_count": 64,
     "metadata": {},
     "output_type": "execute_result"
    }
   ],
   "source": [
    "np.vsplit(arr3,2)"
   ]
  },
  {
   "cell_type": "markdown",
   "id": "37e837de-9644-4db6-8018-727a50084d12",
   "metadata": {},
   "source": [
    "-------"
   ]
  },
  {
   "cell_type": "markdown",
   "id": "acac542d",
   "metadata": {},
   "source": [
    "## 📊 Aggregations & Statistics"
   ]
  },
  {
   "cell_type": "code",
   "execution_count": 65,
   "id": "f142790a-f39f-450e-a991-2398b2b6d19c",
   "metadata": {},
   "outputs": [],
   "source": [
    "#fancy indexing\n",
    "arr8=np.arange(24).reshape(6,4)"
   ]
  },
  {
   "cell_type": "code",
   "execution_count": 66,
   "id": "b041e9fb-38d0-4d23-9756-20f5ad7768ca",
   "metadata": {},
   "outputs": [
    {
     "data": {
      "text/plain": [
       "array([[ 0,  1,  2,  3],\n",
       "       [ 4,  5,  6,  7],\n",
       "       [ 8,  9, 10, 11],\n",
       "       [12, 13, 14, 15],\n",
       "       [16, 17, 18, 19],\n",
       "       [20, 21, 22, 23]])"
      ]
     },
     "execution_count": 66,
     "metadata": {},
     "output_type": "execute_result"
    }
   ],
   "source": [
    "arr8"
   ]
  },
  {
   "cell_type": "code",
   "execution_count": 68,
   "id": "c0970b63-2f87-41a4-9482-bc41ba3641eb",
   "metadata": {},
   "outputs": [
    {
     "data": {
      "text/plain": [
       "array([[ 0,  1,  2,  3],\n",
       "       [ 8,  9, 10, 11],\n",
       "       [16, 17, 18, 19]])"
      ]
     },
     "execution_count": 68,
     "metadata": {},
     "output_type": "execute_result"
    }
   ],
   "source": [
    "arr8[[0,2,4]]"
   ]
  },
  {
   "cell_type": "code",
   "execution_count": 69,
   "id": "d3c2c56e-e36d-4f7a-bd97-e7253f90be58",
   "metadata": {},
   "outputs": [],
   "source": [
    "import random"
   ]
  },
  {
   "cell_type": "code",
   "execution_count": 71,
   "id": "229e1ae3-2a86-4182-a2c0-e2c2b19420a7",
   "metadata": {},
   "outputs": [
    {
     "data": {
      "text/plain": [
       "array([[63, 53, 66, 48, 58],\n",
       "       [12, 11, 74, 82, 78],\n",
       "       [45, 35, 84, 99, 67],\n",
       "       [49, 60,  8, 15, 63]], dtype=int32)"
      ]
     },
     "execution_count": 71,
     "metadata": {},
     "output_type": "execute_result"
    }
   ],
   "source": [
    "#indexing with boolean arrays\n",
    "arr=np.random.randint(low=1,high=100,size=20).reshape(4,5)\n",
    "arr"
   ]
  },
  {
   "cell_type": "markdown",
   "id": "b0a56895-6f14-4896-bd45-0dd98bfdc1d1",
   "metadata": {},
   "source": [
    "---------"
   ]
  },
  {
   "cell_type": "markdown",
   "id": "0ba53857",
   "metadata": {},
   "source": [
    "## 🎭 Boolean Masking"
   ]
  },
  {
   "cell_type": "code",
   "execution_count": 72,
   "id": "1b379bbd-7a71-4907-925e-5f5e35453419",
   "metadata": {},
   "outputs": [
    {
     "data": {
      "text/plain": [
       "array([63, 53, 66, 58, 74, 82, 78, 84, 99, 67, 60, 63], dtype=int32)"
      ]
     },
     "execution_count": 72,
     "metadata": {},
     "output_type": "execute_result"
    }
   ],
   "source": [
    "arr[arr>50]"
   ]
  },
  {
   "cell_type": "code",
   "execution_count": 76,
   "id": "a4526e3d-3dde-48ee-846f-31278c25659f",
   "metadata": {},
   "outputs": [
    {
     "data": {
      "text/plain": [
       "array([[ 0,  0, 66, 48, 58],\n",
       "       [12, 11, 74, 82, 78],\n",
       "       [45, 35, 84,  0,  0],\n",
       "       [49, 60,  8, 15,  0]], dtype=int32)"
      ]
     },
     "execution_count": 76,
     "metadata": {},
     "output_type": "execute_result"
    }
   ],
   "source": [
    "arr[(arr>50) & (arr%2!=0)]=0\n",
    "arr"
   ]
  },
  {
   "cell_type": "code",
   "execution_count": 77,
   "id": "b99cee48-10e7-4361-a72f-e9f8e5dc7677",
   "metadata": {},
   "outputs": [
    {
     "data": {
      "text/plain": [
       "array([-40.        , -39.19191919, -38.38383838, -37.57575758,\n",
       "       -36.76767677, -35.95959596, -35.15151515, -34.34343434,\n",
       "       -33.53535354, -32.72727273, -31.91919192, -31.11111111,\n",
       "       -30.3030303 , -29.49494949, -28.68686869, -27.87878788,\n",
       "       -27.07070707, -26.26262626, -25.45454545, -24.64646465,\n",
       "       -23.83838384, -23.03030303, -22.22222222, -21.41414141,\n",
       "       -20.60606061, -19.7979798 , -18.98989899, -18.18181818,\n",
       "       -17.37373737, -16.56565657, -15.75757576, -14.94949495,\n",
       "       -14.14141414, -13.33333333, -12.52525253, -11.71717172,\n",
       "       -10.90909091, -10.1010101 ,  -9.29292929,  -8.48484848,\n",
       "        -7.67676768,  -6.86868687,  -6.06060606,  -5.25252525,\n",
       "        -4.44444444,  -3.63636364,  -2.82828283,  -2.02020202,\n",
       "        -1.21212121,  -0.4040404 ,   0.4040404 ,   1.21212121,\n",
       "         2.02020202,   2.82828283,   3.63636364,   4.44444444,\n",
       "         5.25252525,   6.06060606,   6.86868687,   7.67676768,\n",
       "         8.48484848,   9.29292929,  10.1010101 ,  10.90909091,\n",
       "        11.71717172,  12.52525253,  13.33333333,  14.14141414,\n",
       "        14.94949495,  15.75757576,  16.56565657,  17.37373737,\n",
       "        18.18181818,  18.98989899,  19.7979798 ,  20.60606061,\n",
       "        21.41414141,  22.22222222,  23.03030303,  23.83838384,\n",
       "        24.64646465,  25.45454545,  26.26262626,  27.07070707,\n",
       "        27.87878788,  28.68686869,  29.49494949,  30.3030303 ,\n",
       "        31.11111111,  31.91919192,  32.72727273,  33.53535354,\n",
       "        34.34343434,  35.15151515,  35.95959596,  36.76767677,\n",
       "        37.57575758,  38.38383838,  39.19191919,  40.        ])"
      ]
     },
     "execution_count": 77,
     "metadata": {},
     "output_type": "execute_result"
    }
   ],
   "source": [
    "#plotting grphs using numpy\n",
    "x=np.linspace(-40,40,100)\n",
    "x"
   ]
  },
  {
   "cell_type": "code",
   "execution_count": 78,
   "id": "c4b177b4-a2fd-45ae-a1b9-0b5d9e875f68",
   "metadata": {},
   "outputs": [
    {
     "data": {
      "text/plain": [
       "100"
      ]
     },
     "execution_count": 78,
     "metadata": {},
     "output_type": "execute_result"
    }
   ],
   "source": [
    "x.size"
   ]
  },
  {
   "cell_type": "code",
   "execution_count": 81,
   "id": "e913fe39-01bd-466f-b51a-a18b0fa79d71",
   "metadata": {},
   "outputs": [
    {
     "data": {
      "text/plain": [
       "array([-0.74511316, -0.9969604 , -0.63246122,  0.12304167,  0.80247705,\n",
       "        0.98580059,  0.55967698, -0.21245326, -0.85323945, -0.96653119,\n",
       "       -0.48228862,  0.30011711,  0.89698277,  0.93931073,  0.40093277,\n",
       "       -0.38531209, -0.93334716, -0.90436313, -0.31627868,  0.46733734,\n",
       "        0.96203346,  0.86197589,  0.22902277, -0.54551809, -0.9828057 ,\n",
       "       -0.81249769, -0.13988282,  0.61921119,  0.995493  ,  0.75633557,\n",
       "        0.04959214, -0.68781042, -0.99999098, -0.69395153,  0.0411065 ,\n",
       "        0.75075145,  0.99626264,  0.62585878, -0.13146699, -0.8075165 ,\n",
       "       -0.98433866, -0.55261747,  0.22074597,  0.85763861,  0.96431712,\n",
       "        0.47483011, -0.30820902, -0.90070545, -0.93636273, -0.39313661,\n",
       "        0.39313661,  0.93636273,  0.90070545,  0.30820902, -0.47483011,\n",
       "       -0.96431712, -0.85763861, -0.22074597,  0.55261747,  0.98433866,\n",
       "        0.8075165 ,  0.13146699, -0.62585878, -0.99626264, -0.75075145,\n",
       "       -0.0411065 ,  0.69395153,  0.99999098,  0.68781042, -0.04959214,\n",
       "       -0.75633557, -0.995493  , -0.61921119,  0.13988282,  0.81249769,\n",
       "        0.9828057 ,  0.54551809, -0.22902277, -0.86197589, -0.96203346,\n",
       "       -0.46733734,  0.31627868,  0.90436313,  0.93334716,  0.38531209,\n",
       "       -0.40093277, -0.93931073, -0.89698277, -0.30011711,  0.48228862,\n",
       "        0.96653119,  0.85323945,  0.21245326, -0.55967698, -0.98580059,\n",
       "       -0.80247705, -0.12304167,  0.63246122,  0.9969604 ,  0.74511316])"
      ]
     },
     "execution_count": 81,
     "metadata": {},
     "output_type": "execute_result"
    }
   ],
   "source": [
    "y=np.sin(x)\n",
    "y"
   ]
  },
  {
   "cell_type": "markdown",
   "id": "5c2fc88e-1a29-41e2-b5bc-0a03dec5f701",
   "metadata": {},
   "source": [
    "--------"
   ]
  },
  {
   "cell_type": "markdown",
   "id": "85433650",
   "metadata": {},
   "source": [
    "## 💾 Plotting"
   ]
  },
  {
   "cell_type": "code",
   "execution_count": 82,
   "id": "0ec8c2ad-1a9c-4ddc-9409-232590b12ffa",
   "metadata": {},
   "outputs": [
    {
     "data": {
      "text/plain": [
       "100"
      ]
     },
     "execution_count": 82,
     "metadata": {},
     "output_type": "execute_result"
    }
   ],
   "source": [
    "y.size"
   ]
  },
  {
   "cell_type": "code",
   "execution_count": 85,
   "id": "400287e5-5c2f-4dea-a123-53d399d0db97",
   "metadata": {},
   "outputs": [],
   "source": [
    "import matplotlib.pyplot as plt\n",
    "%matplotlib inline"
   ]
  },
  {
   "cell_type": "code",
   "execution_count": 86,
   "id": "5fb0e195-5811-4a82-93e8-96b729db4f36",
   "metadata": {},
   "outputs": [
    {
     "data": {
      "text/plain": [
       "[<matplotlib.lines.Line2D at 0x19980912920>]"
      ]
     },
     "execution_count": 86,
     "metadata": {},
     "output_type": "execute_result"
    },
    {
     "data": {
      "image/png": "[encoded data removed]",
      "text/plain": [
       "<Figure size 640x480 with 1 Axes>"
      ]
     },
     "metadata": {},
     "output_type": "display_data"
    }
   ],
   "source": [
    "plt.plot(x,y)"
   ]
  },
  {
   "cell_type": "code",
   "execution_count": 89,
   "id": "4050f46e-85d4-4501-acdc-86ca1b4967ba",
   "metadata": {},
   "outputs": [],
   "source": [
    "y= x*x*+2*x+6"
   ]
  },
  {
   "cell_type": "code",
   "execution_count": 90,
   "id": "dc8515e1-1c9b-4f50-bd8e-5b743ce2c842",
   "metadata": {},
   "outputs": [
    {
     "data": {
      "text/plain": [
       "[<matplotlib.lines.Line2D at 0x19983b57340>]"
      ]
     },
     "execution_count": 90,
     "metadata": {},
     "output_type": "execute_result"
    },
    {
     "data": {
      "image/png": "[encoded data removed]",
      "text/plain": [
       "<Figure size 640x480 with 1 Axes>"
      ]
     },
     "metadata": {},
     "output_type": "display_data"
    }
   ],
   "source": [
    "plt.plot(x,y)"
   ]
  },
  {
   "cell_type": "markdown",
   "id": "0fed81fc-4a7a-4767-acaf-f0dd82274be9",
   "metadata": {},
   "source": [
    "-------"
   ]
  },
  {
   "cell_type": "markdown",
   "id": "f85d4e38",
   "metadata": {},
   "source": [
    "## 🎲 Random Module"
   ]
  },
  {
   "cell_type": "markdown",
   "id": "ce8bb889-b6e0-4667-8795-fd2f9c19d53d",
   "metadata": {},
   "source": [
    "## Some Random Module Functions:\n",
    "| Function                                        | Description                                                       | Syntax / Usage Example                        | Example Output                             |\n",
    "| ----------------------------------------------- | ----------------------------------------------------------------- | --------------------------------------------- | ------------------------------------------ |\n",
    "| **Random Sampling**                             |                                                                   |                                               |                                            |\n",
    "| `np.random.rand(d0, d1, ...)`                   | Uniform distribution over \\[0, 1), returns samples in given shape | `np.random.rand(2, 2)`                        | `[[0.32 0.85], [0.76 0.19]]`               |\n",
    "| `np.random.randn(d0, d1, ...)`                  | Standard normal distribution (mean=0, std=1)                      | `np.random.randn(3)`                          | `[ 0.24 -1.12  1.45]`                      |\n",
    "| `np.random.randint(low, high, size)`            | Random integers in range \\[low, high)                             | `np.random.randint(1, 10, size=(2,2))`        | `[[3 5], [8 1]]`                           |\n",
    "| `np.random.random(size)`                        | Alias for `rand()`, samples from \\[0, 1)                          | `np.random.random((2,))`                      | `[0.5, 0.9]`                               |\n",
    "| `np.random.choice(a, size, replace, p)`         | Random samples from 1D array (with/without replacement)           | `np.random.choice([10, 20, 30], size=2)`      | `[30 10]`                                  |\n",
    "| `np.random.bytes(length)`                       | Returns random bytes                                              | `np.random.bytes(5)`                          | `b'\\xaf\\x93\\x84&\\x12'`                     |\n",
    "| **Distributions**                               |                                                                   |                                               |                                            |\n",
    "| `np.random.uniform(low, high, size)`            | Uniform distribution \\[low, high)                                 | `np.random.uniform(1.0, 2.0, 3)`              | `[1.2 1.7 1.9]`                            |\n",
    "| `np.random.normal(loc, scale, size)`            | Normal (Gaussian) distribution                                    | `np.random.normal(0, 1, 4)`                   | `[-1.0, 0.6, 0.1, 0.9]`                    |\n",
    "| `np.random.poisson(lam, size)`                  | Poisson distribution                                              | `np.random.poisson(3.0, 5)`                   | `[2 1 4 5 3]`                              |\n",
    "| `np.random.binomial(n, p, size)`                | Binomial distribution                                             | `np.random.binomial(10, 0.5, 5)`              | `[4 6 5 7 3]`                              |\n",
    "| `np.random.beta(a, b, size)`                    | Beta distribution                                                 | `np.random.beta(0.5, 0.5, 3)`                 | `[0.3 0.8 0.5]`                            |\n",
    "| `np.random.gamma(shape, scale, size)`           | Gamma distribution                                                | `np.random.gamma(2.0, 1.5, 3)`                | `[2.1 3.0 0.9]`                            |\n",
    "| `np.random.exponential(scale, size)`            | Exponential distribution                                          | `np.random.exponential(1.0, 5)`               | `[0.5 1.3 0.1 2.3 0.9]`                    |\n",
    "| `np.random.geometric(p, size)`                  | Geometric distribution                                            | `np.random.geometric(0.5, 5)`                 | `[2 1 1 3 1]`                              |\n",
    "| `np.random.lognormal(mean, sigma, size)`        | Log-normal distribution                                           | `np.random.lognormal(0.0, 1.0, 3)`            | `[1.2 2.7 0.8]`                            |\n",
    "| `np.random.laplace(loc, scale, size)`           | Laplace distribution                                              | `np.random.laplace(0.0, 1.0, 3)`              | `[-0.5, 0.1, 1.3]`                         |\n",
    "| `np.random.f(dfnum, dfden, size)`               | F (variance ratio) distribution                                   | `np.random.f(5, 2, 3)`                        | `[1.3 0.7 3.2]`                            |\n",
    "| `np.random.chisquare(df, size)`                 | Chi-square distribution                                           | `np.random.chisquare(2, 4)`                   | `[0.9 1.1 2.4 3.2]`                        |\n",
    "| `np.random.triangular(left, mode, right, size)` | Triangular distribution                                           | `np.random.triangular(1, 2, 3, 5)`            | `[2.1 2.3 1.8 1.9 2.0]`                    |\n",
    "| `np.random.wald(mean, scale, size)`             | Wald (inverse Gaussian) distribution                              | `np.random.wald(3, 2, 4)`                     | `[3.2 2.9 3.5 2.7]`                        |\n",
    "| `np.random.weibull(a, size)`                    | Weibull distribution                                              | `np.random.weibull(2.0, 5)`                   | `[0.4 0.7 1.1 1.4 1.2]`                    |\n",
    "| `np.random.standard_normal(size)`               | Standard normal (mean=0, std=1)                                   | `np.random.standard_normal(3)`                | `[0.2, -0.8, 1.4]`                         |\n",
    "| `np.random.standard_gamma(shape, size)`         | Standard Gamma (scale = 1)                                        | `np.random.standard_gamma(2.0, 4)`            | `[1.3 0.9 2.2 1.7]`                        |\n",
    "| `np.random.standard_exponential(size)`          | Standard Exponential (scale = 1)                                  | `np.random.standard_exponential(3)`           | `[0.6 1.2 0.3]`                            |\n",
    "| `np.random.standard_t(df, size)`                | Standard Student's t-distribution                                 | `np.random.standard_t(5, 4)`                  | `[0.4 1.1 -0.9 2.3]`                       |\n",
    "| **Shuffling / Permutation**                     |                                                                   |                                               |                                            |\n",
    "| `np.random.shuffle(x)`                          | Shuffles array in-place (only 1D or rows of 2D)                   | `x = np.array([1,2,3]); np.random.shuffle(x)` | `x` is now shuffled                        |\n",
    "| `np.random.permutation(x)`                      | Returns a shuffled copy                                           | `np.random.permutation(5)`                    | `[4 2 1 3 0]`                              |\n",
    "| **Seed Control**                                |                                                                   |                                               |                                            |\n",
    "| `np.random.seed(seed)`                          | Sets the seed for reproducibility                                 | `np.random.seed(42)`                          | Ensures same output every run              |\n",
    "| `np.random.get_state()`                         | Gets RNG state                                                    | `state = np.random.get_state()`               | Internal state (used to restore RNG state) |\n",
    "| `np.random.set_state(state)`                    | Restores RNG state                                                | `np.random.set_state(state)`                  |                                            |\n"
   ]
  },
  {
   "cell_type": "code",
   "execution_count": 92,
   "id": "6989bd49-e0d6-4988-afc5-8e9a126dedaf",
   "metadata": {},
   "outputs": [
    {
     "name": "stdout",
     "output_type": "stream",
     "text": [
      "[[0 1 2]] [[ 0  1  2]\n",
      " [ 3  4  5]\n",
      " [ 6  7  8]\n",
      " [ 9 10 11]]\n"
     ]
    }
   ],
   "source": [
    "#if x=1 and y=n then also operation will take place (Same Dimension)\n",
    "\n",
    "a5=np.arange(3).reshape(1,3)\n",
    "a6=np.arange(12).reshape(4,3)\n",
    "\n",
    "print(a5, a6)"
   ]
  },
  {
   "cell_type": "code",
   "execution_count": 93,
   "id": "b5a9c7df-6ca1-4131-8b30-7169c2cfa383",
   "metadata": {},
   "outputs": [],
   "source": [
    "#if reshape elements are corresponding then it would broadcaste or else it the operation will fail"
   ]
  },
  {
   "cell_type": "code",
   "execution_count": 96,
   "id": "4710c229-ddfe-43db-90bc-463bcf7f8009",
   "metadata": {},
   "outputs": [
    {
     "data": {
      "text/plain": [
       "0.417022004702574"
      ]
     },
     "execution_count": 96,
     "metadata": {},
     "output_type": "execute_result"
    }
   ],
   "source": [
    "#random module in numpy\n",
    "np.random.seed(1)\n",
    "np.random.random()"
   ]
  },
  {
   "cell_type": "code",
   "execution_count": 98,
   "id": "fa829e29-ead6-49f4-a1a8-468cc843b447",
   "metadata": {},
   "outputs": [
    {
     "data": {
      "text/plain": [
       "array([[ 1.01132311, 30.93092469, 15.52883319, 10.14152088, 19.43976093],\n",
       "       [35.21051198, 40.27997995, 54.34285667, 42.50025693, 68.83673054]])"
      ]
     },
     "execution_count": 98,
     "metadata": {},
     "output_type": "execute_result"
    }
   ],
   "source": [
    "np.random.uniform(1,100,10).reshape(2,5)"
   ]
  },
  {
   "cell_type": "markdown",
   "id": "a98f9e5a-428d-4dce-a883-d8ba70e5c1ec",
   "metadata": {},
   "source": [
    "-------"
   ]
  },
  {
   "cell_type": "markdown",
   "id": "28a59190",
   "metadata": {},
   "source": [
    "## 💡 Useful Tips & Tricks"
   ]
  },
  {
   "cell_type": "code",
   "execution_count": 105,
   "id": "9a84adea-2ff5-4d99-b8a6-602f2a25a844",
   "metadata": {},
   "outputs": [
    {
     "data": {
      "text/plain": [
       "array([[8, 8, 8, 4, 1],\n",
       "       [9, 8, 8, 2, 2],\n",
       "       [4, 1, 9, 7, 5]], dtype=int32)"
      ]
     },
     "execution_count": 105,
     "metadata": {},
     "output_type": "execute_result"
    }
   ],
   "source": [
    "np.random.randint(1,10,15).reshape(3,5)\n"
   ]
  },
  {
   "cell_type": "code",
   "execution_count": 106,
   "id": "d6a73e9e-6112-4527-b043-65c27eadb52e",
   "metadata": {},
   "outputs": [
    {
     "data": {
      "text/plain": [
       "array([6, 7, 3, 6, 8, 9], dtype=int32)"
      ]
     },
     "execution_count": 106,
     "metadata": {},
     "output_type": "execute_result"
    }
   ],
   "source": [
    "a=np.random.randint(1,10,6)\n",
    "a"
   ]
  },
  {
   "cell_type": "code",
   "execution_count": 109,
   "id": "7a40a0a5-1c3d-44bd-a204-85f38181d8e8",
   "metadata": {},
   "outputs": [
    {
     "data": {
      "text/plain": [
       "np.int64(5)"
      ]
     },
     "execution_count": 109,
     "metadata": {},
     "output_type": "execute_result"
    }
   ],
   "source": [
    "#to find the index of max\n",
    "np.argmax(a)"
   ]
  },
  {
   "cell_type": "code",
   "execution_count": 110,
   "id": "144b6187-e94d-46c8-876c-b499854b484c",
   "metadata": {},
   "outputs": [
    {
     "data": {
      "text/plain": [
       "np.int32(9)"
      ]
     },
     "execution_count": 110,
     "metadata": {},
     "output_type": "execute_result"
    }
   ],
   "source": [
    "a[np.argmax(a)]"
   ]
  },
  {
   "cell_type": "code",
   "execution_count": null,
   "id": "ec7f5ded-b43c-49b9-b4d1-8b27659a34a4",
   "metadata": {},
   "outputs": [],
   "source": []
  },
  {
   "cell_type": "markdown",
   "id": "f4ca0ac1",
   "metadata": {},
   "source": [
    "---\n",
    "## 📌 Summary\n",
    "\n",
    "In this notebook, we explored various aspects of **NumPy** with hands-on code examples.  \n",
    "This practice session was structured with explanations followed by code cells and outputs, similar to the reference notebook.\n",
    "\n",
    "✅ Covered topics: array creation, slicing, broadcasting, ufuncs, statistics, and more.\n"
   ]
  }
 ],
 "metadata": {
  "kernelspec": {
   "display_name": "Python 3 (ipykernel)",
   "language": "python",
   "name": "python3"
  },
  "language_info": {
   "codemirror_mode": {
    "name": "ipython",
    "version": 3
   },
   "file_extension": ".py",
   "mimetype": "text/x-python",
   "name": "python",
   "nbconvert_exporter": "python",
   "pygments_lexer": "ipython3",
   "version": "3.10.3"
  }
 },
 "nbformat": 4,
 "nbformat_minor": 5
}
